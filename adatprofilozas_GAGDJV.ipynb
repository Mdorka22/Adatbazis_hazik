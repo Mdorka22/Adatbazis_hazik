{
    "metadata": {
        "kernelspec": {
            "name": "SQL",
            "display_name": "SQL",
            "language": "sql"
        },
        "language_info": {
            "name": "sql",
            "version": ""
        }
    },
    "nbformat_minor": 2,
    "nbformat": 4,
    "cells": [
        {
            "cell_type": "markdown",
            "source": [
                "**<u>A webshop adatbázis Termek táblájának adatprofilozása</u>**"
            ],
            "metadata": {
                "azdata_cell_guid": "5bf7726f-6bb2-483a-97c2-37f86b6fa819"
            },
            "attachments": {}
        },
        {
            "cell_type": "markdown",
            "source": [
                "_KESZLET oszlop_"
            ],
            "metadata": {
                "azdata_cell_guid": "62355091-0fb5-4eae-b219-973821a0d2e9"
            },
            "attachments": {}
        },
        {
            "cell_type": "code",
            "source": [
                "select count(*) as 'Értékek száma',\r\n",
                "        round(avg(KESZLET),3) as 'Átlagos készletnagyság',\r\n",
                "        max(KESZLET) as 'Legnagyobb készlet',\r\n",
                "        min(KESZLET) as 'Legalacsonyabb készlet',\r\n",
                "        round(STDEV(KESZLET), 3) as 'Készlet nagyságának szórása'\r\n",
                "from Termek\r\n",
                "\r\n",
                "\r\n",
                "select count(*) as 'NULL értékek száma'\r\n",
                "from Termek\r\n",
                "where keszlet is null\r\n",
                "\r\n",
                "\r\n",
                "select  keszlet as 'Azok a készlet nagyságok, amik több, mint 10-szer fordulnak elő az oszlopban',\r\n",
                "        count(*) as 'Értékek száma'\r\n",
                "from Termek\r\n",
                "GROUP BY KESZLET\r\n",
                "having count(*)>=10\r\n",
                "order by count(*) desc\r\n",
                "\r\n",
                "\r\n",
                ""
            ],
            "metadata": {
                "azdata_cell_guid": "9c4ff0cc-ca03-4eb5-8480-606c99130432",
                "language": "sql"
            },
            "outputs": [
                {
                    "output_type": "display_data",
                    "data": {
                        "text/html": "(1 row affected)"
                    },
                    "metadata": {}
                },
                {
                    "output_type": "display_data",
                    "data": {
                        "text/html": "(1 row affected)"
                    },
                    "metadata": {}
                },
                {
                    "output_type": "display_data",
                    "data": {
                        "text/html": "(10 rows affected)"
                    },
                    "metadata": {}
                },
                {
                    "output_type": "display_data",
                    "data": {
                        "text/html": "Total execution time: 00:00:00.031"
                    },
                    "metadata": {}
                },
                {
                    "output_type": "execute_result",
                    "metadata": {},
                    "execution_count": 18,
                    "data": {
                        "application/vnd.dataresource+json": {
                            "schema": {
                                "fields": [
                                    {
                                        "name": "Értékek száma"
                                    },
                                    {
                                        "name": "Átlagos készletnagyság"
                                    },
                                    {
                                        "name": "Legnagyobb készlet"
                                    },
                                    {
                                        "name": "Legalacsonyabb készlet"
                                    },
                                    {
                                        "name": "Készlet nagyságának szórása"
                                    }
                                ]
                            },
                            "data": [
                                {
                                    "Értékek száma": "551",
                                    "Átlagos készletnagyság": "1585,991",
                                    "Legnagyobb készlet": "50000",
                                    "Legalacsonyabb készlet": "0",
                                    "Készlet nagyságának szórása": "4604,388"
                                }
                            ]
                        },
                        "text/html": [
                            "<table>",
                            "<tr><th>Értékek száma</th><th>Átlagos készletnagyság</th><th>Legnagyobb készlet</th><th>Legalacsonyabb készlet</th><th>Készlet nagyságának szórása</th></tr>",
                            "<tr><td>551</td><td>1585,991</td><td>50000</td><td>0</td><td>4604,388</td></tr>",
                            "</table>"
                        ]
                    }
                },
                {
                    "output_type": "execute_result",
                    "metadata": {},
                    "execution_count": 18,
                    "data": {
                        "application/vnd.dataresource+json": {
                            "schema": {
                                "fields": [
                                    {
                                        "name": "NULL értékek száma"
                                    }
                                ]
                            },
                            "data": [
                                {
                                    "NULL értékek száma": "0"
                                }
                            ]
                        },
                        "text/html": [
                            "<table>",
                            "<tr><th>NULL értékek száma</th></tr>",
                            "<tr><td>0</td></tr>",
                            "</table>"
                        ]
                    }
                },
                {
                    "output_type": "execute_result",
                    "metadata": {},
                    "execution_count": 18,
                    "data": {
                        "application/vnd.dataresource+json": {
                            "schema": {
                                "fields": [
                                    {
                                        "name": "Azok a készlet nagyságok, amik több, mint 10-szer fordulnak elő az oszlopban"
                                    },
                                    {
                                        "name": "Értékek száma"
                                    }
                                ]
                            },
                            "data": [
                                {
                                    "Azok a készlet nagyságok, amik több, mint 10-szer fordulnak elő az oszlopban": "100",
                                    "Értékek száma": "107"
                                },
                                {
                                    "Azok a készlet nagyságok, amik több, mint 10-szer fordulnak elő az oszlopban": "200",
                                    "Értékek száma": "83"
                                },
                                {
                                    "Azok a készlet nagyságok, amik több, mint 10-szer fordulnak elő az oszlopban": "300",
                                    "Értékek száma": "46"
                                },
                                {
                                    "Azok a készlet nagyságok, amik több, mint 10-szer fordulnak elő az oszlopban": "400",
                                    "Értékek száma": "29"
                                },
                                {
                                    "Azok a készlet nagyságok, amik több, mint 10-szer fordulnak elő az oszlopban": "500",
                                    "Értékek száma": "27"
                                },
                                {
                                    "Azok a készlet nagyságok, amik több, mint 10-szer fordulnak elő az oszlopban": "1000",
                                    "Értékek száma": "21"
                                },
                                {
                                    "Azok a készlet nagyságok, amik több, mint 10-szer fordulnak elő az oszlopban": "900",
                                    "Értékek száma": "17"
                                },
                                {
                                    "Azok a készlet nagyságok, amik több, mint 10-szer fordulnak elő az oszlopban": "600",
                                    "Értékek száma": "17"
                                },
                                {
                                    "Azok a készlet nagyságok, amik több, mint 10-szer fordulnak elő az oszlopban": "700",
                                    "Értékek száma": "15"
                                },
                                {
                                    "Azok a készlet nagyságok, amik több, mint 10-szer fordulnak elő az oszlopban": "2000",
                                    "Értékek száma": "13"
                                }
                            ]
                        },
                        "text/html": [
                            "<table>",
                            "<tr><th>Azok a készlet nagyságok, amik több, mint 10-szer fordulnak elő az oszlopban</th><th>Értékek száma</th></tr>",
                            "<tr><td>100</td><td>107</td></tr>",
                            "<tr><td>200</td><td>83</td></tr>",
                            "<tr><td>300</td><td>46</td></tr>",
                            "<tr><td>400</td><td>29</td></tr>",
                            "<tr><td>500</td><td>27</td></tr>",
                            "<tr><td>1000</td><td>21</td></tr>",
                            "<tr><td>900</td><td>17</td></tr>",
                            "<tr><td>600</td><td>17</td></tr>",
                            "<tr><td>700</td><td>15</td></tr>",
                            "<tr><td>2000</td><td>13</td></tr>",
                            "</table>"
                        ]
                    }
                }
            ],
            "execution_count": 18
        },
        {
            "cell_type": "markdown",
            "source": [
                "LEIRAS oszlop"
            ],
            "metadata": {
                "azdata_cell_guid": "30e7a1a9-700b-4cb1-b05f-f5827d063b22"
            },
            "attachments": {}
        },
        {
            "cell_type": "code",
            "source": [
                "select count(*) as 'NULL értékek száma',\r\n",
                "        count(*)/cast(551 as float)*100 as 'NULL értékek százalékos előfordulása'\r\n",
                "from Termek\r\n",
                "where leiras is null\r\n",
                "\r\n",
                "select  leiras as 'Leírás szövege',\r\n",
                "        count(*) as 'Értékek száma'\r\n",
                "from Termek\r\n",
                "where leiras is not  NULL\r\n",
                "group by LEIRAS\r\n",
                "order by 2 DESC\r\n",
                ""
            ],
            "metadata": {
                "azdata_cell_guid": "a7ec92e4-5cc7-4ece-8d99-e248c07f091d",
                "language": "sql"
            },
            "outputs": [
                {
                    "output_type": "display_data",
                    "data": {
                        "text/html": "(1 row affected)"
                    },
                    "metadata": {}
                },
                {
                    "output_type": "display_data",
                    "data": {
                        "text/html": "(20 rows affected)"
                    },
                    "metadata": {}
                },
                {
                    "output_type": "display_data",
                    "data": {
                        "text/html": "Total execution time: 00:00:00.032"
                    },
                    "metadata": {}
                },
                {
                    "output_type": "execute_result",
                    "metadata": {},
                    "execution_count": 42,
                    "data": {
                        "application/vnd.dataresource+json": {
                            "schema": {
                                "fields": [
                                    {
                                        "name": "NULL értékek száma"
                                    },
                                    {
                                        "name": "NULL értékek százalékos előfordulása"
                                    }
                                ]
                            },
                            "data": [
                                {
                                    "NULL értékek száma": "527",
                                    "NULL értékek százalékos előfordulása": "95,6442831215971"
                                }
                            ]
                        },
                        "text/html": [
                            "<table>",
                            "<tr><th>NULL értékek száma</th><th>NULL értékek százalékos előfordulása</th></tr>",
                            "<tr><td>527</td><td>95,6442831215971</td></tr>",
                            "</table>"
                        ]
                    }
                },
                {
                    "output_type": "execute_result",
                    "metadata": {},
                    "execution_count": 42,
                    "data": {
                        "application/vnd.dataresource+json": {
                            "schema": {
                                "fields": [
                                    {
                                        "name": "Leírás szövege"
                                    },
                                    {
                                        "name": "Értékek száma"
                                    }
                                ]
                            },
                            "data": [
                                {
                                    "Leírás szövege": "kék (farmer) ",
                                    "Értékek száma": "3"
                                },
                                {
                                    "Leírás szövege": "mintás (pamut) ",
                                    "Értékek száma": "2"
                                },
                                {
                                    "Leírás szövege": "pamut ",
                                    "Értékek száma": "2"
                                },
                                {
                                    "Leírás szövege": "piros (szövet) ",
                                    "Értékek száma": "1"
                                },
                                {
                                    "Leírás szövege": "pókemeberes  ",
                                    "Értékek száma": "1"
                                },
                                {
                                    "Leírás szövege": "pókemeberes (pamut) ",
                                    "Értékek száma": "1"
                                },
                                {
                                    "Leírás szövege": "rózsaszín  ",
                                    "Értékek száma": "1"
                                },
                                {
                                    "Leírás szövege": "rózsaszín (pamut) ",
                                    "Értékek száma": "1"
                                },
                                {
                                    "Leírás szövege": "sárga (kötött) ",
                                    "Értékek száma": "1"
                                },
                                {
                                    "Leírás szövege": "szürke  ",
                                    "Értékek száma": "1"
                                },
                                {
                                    "Leírás szövege": "tört fehér  ",
                                    "Értékek száma": "1"
                                },
                                {
                                    "Leírás szövege": "barna (szövet) ",
                                    "Értékek száma": "1"
                                },
                                {
                                    "Leírás szövege": "farmer ",
                                    "Értékek száma": "1"
                                },
                                {
                                    "Leírás szövege": "fehér  ",
                                    "Értékek száma": "1"
                                },
                                {
                                    "Leírás szövege": "fehér (pamut) ",
                                    "Értékek száma": "1"
                                },
                                {
                                    "Leírás szövege": "fekete  ",
                                    "Értékek száma": "1"
                                },
                                {
                                    "Leírás szövege": "fekete (pamut) ",
                                    "Értékek száma": "1"
                                },
                                {
                                    "Leírás szövege": "fekete (szövet) ",
                                    "Értékek száma": "1"
                                },
                                {
                                    "Leírás szövege": "hercegnős (pamut) ",
                                    "Értékek száma": "1"
                                },
                                {
                                    "Leírás szövege": "kék (pamut) ",
                                    "Értékek száma": "1"
                                }
                            ]
                        },
                        "text/html": [
                            "<table>",
                            "<tr><th>Leírás szövege</th><th>Értékek száma</th></tr>",
                            "<tr><td>kék (farmer) </td><td>3</td></tr>",
                            "<tr><td>mintás (pamut) </td><td>2</td></tr>",
                            "<tr><td>pamut </td><td>2</td></tr>",
                            "<tr><td>piros (szövet) </td><td>1</td></tr>",
                            "<tr><td>pókemeberes  </td><td>1</td></tr>",
                            "<tr><td>pókemeberes (pamut) </td><td>1</td></tr>",
                            "<tr><td>rózsaszín  </td><td>1</td></tr>",
                            "<tr><td>rózsaszín (pamut) </td><td>1</td></tr>",
                            "<tr><td>sárga (kötött) </td><td>1</td></tr>",
                            "<tr><td>szürke  </td><td>1</td></tr>",
                            "<tr><td>tört fehér  </td><td>1</td></tr>",
                            "<tr><td>barna (szövet) </td><td>1</td></tr>",
                            "<tr><td>farmer </td><td>1</td></tr>",
                            "<tr><td>fehér  </td><td>1</td></tr>",
                            "<tr><td>fehér (pamut) </td><td>1</td></tr>",
                            "<tr><td>fekete  </td><td>1</td></tr>",
                            "<tr><td>fekete (pamut) </td><td>1</td></tr>",
                            "<tr><td>fekete (szövet) </td><td>1</td></tr>",
                            "<tr><td>hercegnős (pamut) </td><td>1</td></tr>",
                            "<tr><td>kék (pamut) </td><td>1</td></tr>",
                            "</table>"
                        ]
                    }
                }
            ],
            "execution_count": 42
        },
        {
            "cell_type": "markdown",
            "source": [
                "_FELVITTE oszlop_"
            ],
            "metadata": {
                "azdata_cell_guid": "104669d1-9703-46ea-bff3-da9785144bdd"
            },
            "attachments": {}
        },
        {
            "cell_type": "code",
            "source": [
                "select  felvitte,\r\n",
                "        count(*) as 'Felvitelek száma'\r\n",
                "from termek\r\n",
                "group by FELVITTE\r\n",
                "order by 2 ASC\r\n",
                "\r\n",
                "select  felvitte,\r\n",
                "        count(*) as 'Felvitelek száma'\r\n",
                "from termek\r\n",
                "group by FELVITTE\r\n",
                "order by 2 ASC"
            ],
            "metadata": {
                "azdata_cell_guid": "43dd04d3-0fba-400c-815d-1591fbe37f79",
                "language": "sql"
            },
            "outputs": [
                {
                    "output_type": "display_data",
                    "data": {
                        "text/html": "(3 rows affected)"
                    },
                    "metadata": {}
                },
                {
                    "output_type": "display_data",
                    "data": {
                        "text/html": "(3 rows affected)"
                    },
                    "metadata": {}
                },
                {
                    "output_type": "display_data",
                    "data": {
                        "text/html": "Total execution time: 00:00:00.019"
                    },
                    "metadata": {}
                },
                {
                    "output_type": "execute_result",
                    "metadata": {
                        "azdata_chartOptions": {
                            "type": "pie",
                            "dataDirection": "vertical",
                            "columnsAsLabels": true,
                            "labelFirstColumn": false,
                            "legendPosition": "top"
                        }
                    },
                    "execution_count": 44,
                    "data": {
                        "application/vnd.dataresource+json": {
                            "schema": {
                                "fields": [
                                    {
                                        "name": "felvitte"
                                    },
                                    {
                                        "name": "Felvitelek száma"
                                    }
                                ]
                            },
                            "data": [
                                {
                                    "felvitte": "Mari",
                                    "Felvitelek száma": "174"
                                },
                                {
                                    "felvitte": "Sára",
                                    "Felvitelek száma": "188"
                                },
                                {
                                    "felvitte": "Béla",
                                    "Felvitelek száma": "189"
                                }
                            ]
                        },
                        "text/html": [
                            "<table>",
                            "<tr><th>felvitte</th><th>Felvitelek száma</th></tr>",
                            "<tr><td>Mari</td><td>174</td></tr>",
                            "<tr><td>Sára</td><td>188</td></tr>",
                            "<tr><td>Béla</td><td>189</td></tr>",
                            "</table>"
                        ]
                    }
                },
                {
                    "output_type": "execute_result",
                    "metadata": {},
                    "execution_count": 44,
                    "data": {
                        "application/vnd.dataresource+json": {
                            "schema": {
                                "fields": [
                                    {
                                        "name": "felvitte"
                                    },
                                    {
                                        "name": "Felvitelek száma"
                                    }
                                ]
                            },
                            "data": [
                                {
                                    "felvitte": "Mari",
                                    "Felvitelek száma": "174"
                                },
                                {
                                    "felvitte": "Sára",
                                    "Felvitelek száma": "188"
                                },
                                {
                                    "felvitte": "Béla",
                                    "Felvitelek száma": "189"
                                }
                            ]
                        },
                        "text/html": [
                            "<table>",
                            "<tr><th>felvitte</th><th>Felvitelek száma</th></tr>",
                            "<tr><td>Mari</td><td>174</td></tr>",
                            "<tr><td>Sára</td><td>188</td></tr>",
                            "<tr><td>Béla</td><td>189</td></tr>",
                            "</table>"
                        ]
                    }
                }
            ],
            "execution_count": 44
        },
        {
            "cell_type": "markdown",
            "source": [
                "_LISTAAR oszlop_"
            ],
            "metadata": {
                "azdata_cell_guid": "1f07f579-9856-4e7d-a250-29ffa0e61616"
            },
            "attachments": {}
        },
        {
            "cell_type": "code",
            "source": [
                "select count(*) as 'Értékek száma',\r\n",
                "        round(avg(LISTAAR),3) as 'Átlagos listaár',\r\n",
                "        max(LISTAAR) as 'Legmagasabb listaár',\r\n",
                "        min(LISTAAR) as 'Legalacsonyabb listaár',\r\n",
                "        round(STDEV(LISTAAR), 3) as 'Listaár nagyságának szórása'\r\n",
                "from Termek\r\n",
                "\r\n",
                "select count(*) as 'NULL értékek száma'\r\n",
                "from Termek\r\n",
                "where LISTAAR is null"
            ],
            "metadata": {
                "azdata_cell_guid": "e5b23189-ae8f-47a9-8e2d-1cadabe06afe",
                "language": "sql"
            },
            "outputs": [
                {
                    "output_type": "display_data",
                    "data": {
                        "text/html": "(1 row affected)"
                    },
                    "metadata": {}
                },
                {
                    "output_type": "display_data",
                    "data": {
                        "text/html": "(1 row affected)"
                    },
                    "metadata": {}
                },
                {
                    "output_type": "display_data",
                    "data": {
                        "text/html": "Total execution time: 00:00:00.037"
                    },
                    "metadata": {}
                },
                {
                    "output_type": "execute_result",
                    "metadata": {},
                    "execution_count": 45,
                    "data": {
                        "application/vnd.dataresource+json": {
                            "schema": {
                                "fields": [
                                    {
                                        "name": "Értékek száma"
                                    },
                                    {
                                        "name": "Átlagos listaár"
                                    },
                                    {
                                        "name": "Legmagasabb listaár"
                                    },
                                    {
                                        "name": "Legalacsonyabb listaár"
                                    },
                                    {
                                        "name": "Listaár nagyságának szórása"
                                    }
                                ]
                            },
                            "data": [
                                {
                                    "Értékek száma": "551",
                                    "Átlagos listaár": "786,281",
                                    "Legmagasabb listaár": "46000",
                                    "Legalacsonyabb listaár": "0",
                                    "Listaár nagyságának szórása": "3602,481"
                                }
                            ]
                        },
                        "text/html": [
                            "<table>",
                            "<tr><th>Értékek száma</th><th>Átlagos listaár</th><th>Legmagasabb listaár</th><th>Legalacsonyabb listaár</th><th>Listaár nagyságának szórása</th></tr>",
                            "<tr><td>551</td><td>786,281</td><td>46000</td><td>0</td><td>3602,481</td></tr>",
                            "</table>"
                        ]
                    }
                },
                {
                    "output_type": "execute_result",
                    "metadata": {},
                    "execution_count": 45,
                    "data": {
                        "application/vnd.dataresource+json": {
                            "schema": {
                                "fields": [
                                    {
                                        "name": "NULL értékek száma"
                                    }
                                ]
                            },
                            "data": [
                                {
                                    "NULL értékek száma": "0"
                                }
                            ]
                        },
                        "text/html": [
                            "<table>",
                            "<tr><th>NULL értékek száma</th></tr>",
                            "<tr><td>0</td></tr>",
                            "</table>"
                        ]
                    }
                }
            ],
            "execution_count": 45
        }
    ]
}